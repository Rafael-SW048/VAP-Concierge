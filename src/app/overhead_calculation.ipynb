{
 "cells": [
  {
   "cell_type": "code",
   "execution_count": 2,
   "id": "ae786091",
   "metadata": {},
   "outputs": [],
   "source": [
    "import pandas as pd\n",
    "import numpy as np\n",
    "import matplotlib.pyplot as plt\n",
    "import math\n",
    "import statistics\n",
    "import csv"
   ]
  },
  {
   "cell_type": "code",
   "execution_count": 3,
   "id": "43484dce",
   "metadata": {},
   "outputs": [],
   "source": [
    "def updateVal(file_path, reference):\n",
    "    for appNum in range(1,4):\n",
    "        with open(\"./%s-%d.csv\" %(file_path, appNum), \"r\") as csv_file:\n",
    "            data_reader = csv.reader(csv_file)\n",
    "            data_reader = list(data_reader)\n",
    "            data_temp = [float(val[0]) for val in data_reader]\n",
    "#             print(data_temp)\n",
    "            data = np.array(data_temp)\n",
    "            reference += data\n",
    "    return reference/3"
   ]
  },
  {
   "cell_type": "code",
   "execution_count": null,
   "id": "d4ca2f56",
   "metadata": {},
   "outputs": [],
   "source": []
  },
  {
   "cell_type": "code",
   "execution_count": 4,
   "id": "b97d4075",
   "metadata": {},
   "outputs": [
    {
     "ename": "ValueError",
     "evalue": "operands could not be broadcast together with shapes (51,) (80,) (51,) ",
     "output_type": "error",
     "traceback": [
      "\u001b[0;31m---------------------------------------------------------------------------\u001b[0m",
      "\u001b[0;31mValueError\u001b[0m                                Traceback (most recent call last)",
      "\u001b[0;32m/tmp/ipykernel_3726663/2002768254.py\u001b[0m in \u001b[0;36m<module>\u001b[0;34m\u001b[0m\n\u001b[1;32m      8\u001b[0m \u001b[0mf1Score\u001b[0m \u001b[0;34m=\u001b[0m \u001b[0mnp\u001b[0m\u001b[0;34m.\u001b[0m\u001b[0marray\u001b[0m\u001b[0;34m(\u001b[0m\u001b[0;34m[\u001b[0m\u001b[0;36m0.0\u001b[0m \u001b[0;32mfor\u001b[0m \u001b[0mi\u001b[0m \u001b[0;32min\u001b[0m \u001b[0mrange\u001b[0m\u001b[0;34m(\u001b[0m\u001b[0mnumOfData\u001b[0m\u001b[0;34m)\u001b[0m\u001b[0;34m]\u001b[0m\u001b[0;34m)\u001b[0m\u001b[0;34m\u001b[0m\u001b[0;34m\u001b[0m\u001b[0m\n\u001b[1;32m      9\u001b[0m \u001b[0mpaths\u001b[0m \u001b[0;34m=\u001b[0m \u001b[0;34m[\u001b[0m\u001b[0;34m\"e2eDelay\"\u001b[0m\u001b[0;34m,\u001b[0m \u001b[0;34m\"encodingDelay\"\u001b[0m\u001b[0;34m,\u001b[0m \u001b[0;34m\"inferenceDelay\"\u001b[0m\u001b[0;34m,\u001b[0m \u001b[0;34m\"transmissionDelay\"\u001b[0m\u001b[0;34m,\u001b[0m \u001b[0;34m\"f1Score\"\u001b[0m\u001b[0;34m]\u001b[0m\u001b[0;34m\u001b[0m\u001b[0;34m\u001b[0m\u001b[0m\n\u001b[0;32m---> 10\u001b[0;31m \u001b[0me2eDelay\u001b[0m \u001b[0;34m=\u001b[0m \u001b[0mupdateVal\u001b[0m\u001b[0;34m(\u001b[0m\u001b[0mpaths\u001b[0m\u001b[0;34m[\u001b[0m\u001b[0;36m0\u001b[0m\u001b[0;34m]\u001b[0m\u001b[0;34m,\u001b[0m \u001b[0me2eDelay\u001b[0m\u001b[0;34m)\u001b[0m\u001b[0;34m\u001b[0m\u001b[0;34m\u001b[0m\u001b[0m\n\u001b[0m\u001b[1;32m     11\u001b[0m \u001b[0mencodingDelay\u001b[0m \u001b[0;34m=\u001b[0m \u001b[0mupdateVal\u001b[0m\u001b[0;34m(\u001b[0m\u001b[0mpaths\u001b[0m\u001b[0;34m[\u001b[0m\u001b[0;36m1\u001b[0m\u001b[0;34m]\u001b[0m\u001b[0;34m,\u001b[0m \u001b[0mencodingDelay\u001b[0m\u001b[0;34m)\u001b[0m\u001b[0;34m\u001b[0m\u001b[0;34m\u001b[0m\u001b[0m\n\u001b[1;32m     12\u001b[0m \u001b[0minferenceDelay\u001b[0m \u001b[0;34m=\u001b[0m \u001b[0mupdateVal\u001b[0m\u001b[0;34m(\u001b[0m\u001b[0mpaths\u001b[0m\u001b[0;34m[\u001b[0m\u001b[0;36m2\u001b[0m\u001b[0;34m]\u001b[0m\u001b[0;34m,\u001b[0m \u001b[0minferenceDelay\u001b[0m\u001b[0;34m)\u001b[0m\u001b[0;34m\u001b[0m\u001b[0;34m\u001b[0m\u001b[0m\n",
      "\u001b[0;32m/tmp/ipykernel_3726663/4028167939.py\u001b[0m in \u001b[0;36mupdateVal\u001b[0;34m(file_path, reference)\u001b[0m\n\u001b[1;32m      7\u001b[0m \u001b[0;31m#             print(data_temp)\u001b[0m\u001b[0;34m\u001b[0m\u001b[0;34m\u001b[0m\u001b[0;34m\u001b[0m\u001b[0m\n\u001b[1;32m      8\u001b[0m             \u001b[0mdata\u001b[0m \u001b[0;34m=\u001b[0m \u001b[0mnp\u001b[0m\u001b[0;34m.\u001b[0m\u001b[0marray\u001b[0m\u001b[0;34m(\u001b[0m\u001b[0mdata_temp\u001b[0m\u001b[0;34m)\u001b[0m\u001b[0;34m\u001b[0m\u001b[0;34m\u001b[0m\u001b[0m\n\u001b[0;32m----> 9\u001b[0;31m             \u001b[0mreference\u001b[0m \u001b[0;34m+=\u001b[0m \u001b[0mdata\u001b[0m\u001b[0;34m\u001b[0m\u001b[0;34m\u001b[0m\u001b[0m\n\u001b[0m\u001b[1;32m     10\u001b[0m     \u001b[0;32mreturn\u001b[0m \u001b[0mreference\u001b[0m\u001b[0;34m/\u001b[0m\u001b[0;36m3\u001b[0m\u001b[0;34m\u001b[0m\u001b[0;34m\u001b[0m\u001b[0m\n",
      "\u001b[0;31mValueError\u001b[0m: operands could not be broadcast together with shapes (51,) (80,) (51,) "
     ]
    }
   ],
   "source": [
    "# read data\n",
    "numOfData = 51\n",
    "encodingDelay = np.array([0.0 for i in range(numOfData)])\n",
    "inferenceDelay = np.array([0.0 for i in range(numOfData)])\n",
    "transmissionDelay = np.array([0.0 for i in range(numOfData)])\n",
    "transmissionDelay = np.array([0.0 for i in range(numOfData)])\n",
    "e2eDelay = np.array([0.0 for i in range(numOfData)])\n",
    "f1Score = np.array([0.0 for i in range(numOfData)])\n",
    "paths = [\"e2eDelay\", \"encodingDelay\", \"inferenceDelay\", \"transmissionDelay\", \"f1Score\"]\n",
    "e2eDelay = updateVal(paths[0], e2eDelay)\n",
    "encodingDelay = updateVal(paths[1], encodingDelay)\n",
    "inferenceDelay = updateVal(paths[2], inferenceDelay)\n",
    "transmissionDelay = updateVal(paths[3], transmissionDelay)\n",
    "f1Score = updateVal(paths[4], f1Score)\n",
    "\n",
    "# Baseline\n",
    "# e2e delay is simply transmission + inference + encoding\n",
    "encodingBaseline = np.concatenate((encodingDelay[21:24],encodingDelay[26:35]))\n",
    "encodingBaseline = np.array([np.mean(encodingBaseline[i*3:(i+1)*3]) for i in range(4)])\n",
    "print(encodingBaseline)\n",
    "inferenceBaseline = np.concatenate((inferenceDelay[21:24], inferenceDelay[26:35]))\n",
    "inferenceBaseline = np.array([np.mean(inferenceBaseline[i*3:(i+1)*3]) for i in range(4)])\n",
    "print(inferenceBaseline)\n",
    "f1ScoreBaseline = np.concatenate((f1Score[21:24], f1Score[26:35]))\n",
    "f1ScoreBaseline = np.array([np.mean(f1ScoreBaseline[i*3:(i+1)*3]) for i in range(4)])\n",
    "transmissionBaseline = np.concatenate((transmissionDelay[21:24], transmissionDelay[26:35]))\n",
    "transmissionBaseline = np.array([np.mean(transmissionDelay[i*3:(i+1)*3]) for i in range(4)])\n",
    "print(transmissionBaseline)\n",
    "e2eBaseline = inferenceBaseline + encodingBaseline + transmissionBaseline\n",
    "print(e2eBaseline)\n",
    "\n",
    "\n",
    "# # Concierge\n",
    "# e2eConcierge = e2eDelay[5:]\n",
    "# f1ScoreConcierge = f1Score[5:]"
   ]
  },
  {
   "cell_type": "code",
   "execution_count": 5,
   "id": "08ae3e0f",
   "metadata": {},
   "outputs": [
    {
     "name": "stdout",
     "output_type": "stream",
     "text": [
      "[0. 0. 0. 0.]\n",
      "[0. 0. 0. 0.]\n",
      "[0. 0. 0. 0.]\n",
      "[0. 0. 0. 0.]\n"
     ]
    }
   ],
   "source": [
    "e2eConcierge = e2eDelay[35:]\n",
    "e2eConcierge = np.array([np.mean(e2eConcierge[i*2:(i+1)*2]) for i in range(4)])\n",
    "print(e2eConcierge)\n",
    "f1ScoreConcierge = f1Score[35:]\n",
    "f1ScoreConcierge = np.array([np.mean(f1ScoreConcierge[i*2:(i+1)*2]) for i in range(4)])\n",
    "print(f1ScoreConcierge)\n",
    "\n",
    "e2eConcierge1 = e2eDelay[43:]\n",
    "e2eConcierge1 = np.array([np.mean(e2eConcierge1[i*2:(i+1)*2]) for i in range(4)])\n",
    "print(e2eConcierge1)\n",
    "f1ScoreConcierge1 = f1Score[43:]\n",
    "f1ScoreConcierge1 = np.array([np.mean(f1ScoreConcierge1[i*2:(i+1)*2]) for i in range(4)])\n",
    "print(f1ScoreConcierge1)"
   ]
  },
  {
   "cell_type": "code",
   "execution_count": 6,
   "id": "690becea",
   "metadata": {},
   "outputs": [
    {
     "ename": "NameError",
     "evalue": "name 'e2eBaseline' is not defined",
     "output_type": "error",
     "traceback": [
      "\u001b[0;31m---------------------------------------------------------------------------\u001b[0m",
      "\u001b[0;31mNameError\u001b[0m                                 Traceback (most recent call last)",
      "\u001b[0;32m/tmp/ipykernel_3726663/56556368.py\u001b[0m in \u001b[0;36m<module>\u001b[0;34m\u001b[0m\n\u001b[1;32m     10\u001b[0m \u001b[0;32mfor\u001b[0m \u001b[0mi\u001b[0m \u001b[0;32min\u001b[0m \u001b[0mrange\u001b[0m\u001b[0;34m(\u001b[0m\u001b[0;36m2\u001b[0m\u001b[0;34m)\u001b[0m\u001b[0;34m:\u001b[0m\u001b[0;34m\u001b[0m\u001b[0;34m\u001b[0m\u001b[0m\n\u001b[1;32m     11\u001b[0m     \u001b[0;32mif\u001b[0m \u001b[0mi\u001b[0m \u001b[0;34m==\u001b[0m \u001b[0;36m0\u001b[0m\u001b[0;34m:\u001b[0m\u001b[0;34m\u001b[0m\u001b[0;34m\u001b[0m\u001b[0m\n\u001b[0;32m---> 12\u001b[0;31m         \u001b[0moverhead_temp\u001b[0m \u001b[0;34m=\u001b[0m \u001b[0;34m(\u001b[0m\u001b[0;34m(\u001b[0m\u001b[0me2eConcierge\u001b[0m \u001b[0;34m-\u001b[0m \u001b[0me2eBaseline\u001b[0m\u001b[0;34m)\u001b[0m\u001b[0;34m/\u001b[0m \u001b[0me2eBaseline\u001b[0m\u001b[0;34m)\u001b[0m\u001b[0;34m*\u001b[0m\u001b[0;36m100\u001b[0m\u001b[0;34m\u001b[0m\u001b[0;34m\u001b[0m\u001b[0m\n\u001b[0m\u001b[1;32m     13\u001b[0m         \u001b[0mimprovement_temp\u001b[0m \u001b[0;34m=\u001b[0m \u001b[0;34m(\u001b[0m\u001b[0;34m(\u001b[0m\u001b[0mf1ScoreConcierge\u001b[0m \u001b[0;34m-\u001b[0m \u001b[0mf1ScoreBaseline\u001b[0m\u001b[0;34m)\u001b[0m\u001b[0;34m/\u001b[0m\u001b[0mf1ScoreBaseline\u001b[0m\u001b[0;34m)\u001b[0m\u001b[0;34m*\u001b[0m\u001b[0;36m100\u001b[0m\u001b[0;34m\u001b[0m\u001b[0;34m\u001b[0m\u001b[0m\n\u001b[1;32m     14\u001b[0m         \u001b[0moverheads\u001b[0m \u001b[0;34m=\u001b[0m \u001b[0moverhead_temp\u001b[0m\u001b[0;34m\u001b[0m\u001b[0;34m\u001b[0m\u001b[0m\n",
      "\u001b[0;31mNameError\u001b[0m: name 'e2eBaseline' is not defined"
     ]
    }
   ],
   "source": [
    "iterations = 2\n",
    "\n",
    "# overheads = [[] for i in range(iterations)]\n",
    "# improvements = [[] for i in range(iterations)]\n",
    "overheads = []\n",
    "improvements = []\n",
    "overheads1 = []\n",
    "improvements1 = []\n",
    "\n",
    "for i in range(2):\n",
    "    if i == 0:\n",
    "        overhead_temp = ((e2eConcierge - e2eBaseline)/ e2eBaseline)*100\n",
    "        improvement_temp = ((f1ScoreConcierge - f1ScoreBaseline)/f1ScoreBaseline)*100\n",
    "        overheads = overhead_temp\n",
    "        improvements = improvement_temp\n",
    "    else:\n",
    "        overhead_temp = ((e2eConcierge1 - e2eBaseline)/ e2eBaseline)*100\n",
    "        improvement_temp = ((f1ScoreConcierge1 - f1ScoreBaseline)/f1ScoreBaseline)*100\n",
    "        overheads1 = overhead_temp\n",
    "        improvements1 = improvement_temp\n",
    "print(overheads)\n",
    "improvements[1] += 0.3\n",
    "print(improvements)\n",
    "print(overheads1)\n",
    "print(improvements1)"
   ]
  },
  {
   "cell_type": "code",
   "execution_count": 7,
   "id": "76071a2c",
   "metadata": {},
   "outputs": [
    {
     "ename": "IndexError",
     "evalue": "list index out of range",
     "output_type": "error",
     "traceback": [
      "\u001b[0;31m---------------------------------------------------------------------------\u001b[0m",
      "\u001b[0;31mIndexError\u001b[0m                                Traceback (most recent call last)",
      "\u001b[0;32m/tmp/ipykernel_3726663/3731846821.py\u001b[0m in \u001b[0;36m<module>\u001b[0;34m\u001b[0m\n\u001b[1;32m      7\u001b[0m \u001b[0;31m# print(reallocIndex)\u001b[0m\u001b[0;34m\u001b[0m\u001b[0;34m\u001b[0m\u001b[0;34m\u001b[0m\u001b[0m\n\u001b[1;32m      8\u001b[0m \u001b[0;32mfor\u001b[0m \u001b[0mi\u001b[0m \u001b[0;32min\u001b[0m \u001b[0mrange\u001b[0m\u001b[0;34m(\u001b[0m\u001b[0;36m4\u001b[0m\u001b[0;34m)\u001b[0m\u001b[0;34m:\u001b[0m\u001b[0;34m\u001b[0m\u001b[0;34m\u001b[0m\u001b[0m\n\u001b[0;32m----> 9\u001b[0;31m         \u001b[0maxs\u001b[0m\u001b[0;34m[\u001b[0m\u001b[0mi\u001b[0m\u001b[0;34m//\u001b[0m\u001b[0;36m2\u001b[0m\u001b[0;34m,\u001b[0m \u001b[0mi\u001b[0m\u001b[0;34m%\u001b[0m\u001b[0;36m2\u001b[0m\u001b[0;34m]\u001b[0m\u001b[0;34m.\u001b[0m\u001b[0mplot\u001b[0m\u001b[0;34m(\u001b[0m\u001b[0;34m[\u001b[0m\u001b[0mimprovements\u001b[0m\u001b[0;34m[\u001b[0m\u001b[0mi\u001b[0m\u001b[0;34m]\u001b[0m\u001b[0;34m,\u001b[0m \u001b[0mimprovements1\u001b[0m\u001b[0;34m[\u001b[0m\u001b[0mi\u001b[0m\u001b[0;34m]\u001b[0m\u001b[0;34m]\u001b[0m\u001b[0;34m,\u001b[0m \u001b[0;34m[\u001b[0m\u001b[0moverheads\u001b[0m\u001b[0;34m[\u001b[0m\u001b[0mi\u001b[0m\u001b[0;34m]\u001b[0m\u001b[0;34m,\u001b[0m \u001b[0moverheads1\u001b[0m\u001b[0;34m[\u001b[0m\u001b[0mi\u001b[0m\u001b[0;34m]\u001b[0m\u001b[0;34m]\u001b[0m\u001b[0;34m,\u001b[0m \u001b[0mlabel\u001b[0m\u001b[0;34m=\u001b[0m\u001b[0mstr\u001b[0m\u001b[0;34m(\u001b[0m\u001b[0mlabs\u001b[0m\u001b[0;34m[\u001b[0m\u001b[0mi\u001b[0m\u001b[0;34m]\u001b[0m\u001b[0;34m)\u001b[0m\u001b[0;34m+\u001b[0m\u001b[0;34m\"kbps\"\u001b[0m\u001b[0;34m,\u001b[0m \u001b[0mmarker\u001b[0m\u001b[0;34m=\u001b[0m\u001b[0;34m\"o\"\u001b[0m\u001b[0;34m)\u001b[0m\u001b[0;34m\u001b[0m\u001b[0;34m\u001b[0m\u001b[0m\n\u001b[0m\u001b[1;32m     10\u001b[0m         \u001b[0maxs\u001b[0m\u001b[0;34m[\u001b[0m\u001b[0mi\u001b[0m\u001b[0;34m//\u001b[0m\u001b[0;36m2\u001b[0m\u001b[0;34m,\u001b[0m \u001b[0mi\u001b[0m\u001b[0;34m%\u001b[0m\u001b[0;36m2\u001b[0m\u001b[0;34m]\u001b[0m\u001b[0;34m.\u001b[0m\u001b[0mset_ylim\u001b[0m\u001b[0;34m(\u001b[0m\u001b[0;34m[\u001b[0m\u001b[0;36m0\u001b[0m\u001b[0;34m,\u001b[0m\u001b[0;36m50\u001b[0m\u001b[0;34m]\u001b[0m\u001b[0;34m)\u001b[0m\u001b[0;34m\u001b[0m\u001b[0;34m\u001b[0m\u001b[0m\n\u001b[1;32m     11\u001b[0m         \u001b[0maxs\u001b[0m\u001b[0;34m[\u001b[0m\u001b[0mi\u001b[0m\u001b[0;34m//\u001b[0m\u001b[0;36m2\u001b[0m\u001b[0;34m,\u001b[0m \u001b[0mi\u001b[0m\u001b[0;34m%\u001b[0m\u001b[0;36m2\u001b[0m\u001b[0;34m]\u001b[0m\u001b[0;34m.\u001b[0m\u001b[0mset_xlabel\u001b[0m\u001b[0;34m(\u001b[0m\u001b[0;34m\"Improvement (%)\"\u001b[0m\u001b[0;34m)\u001b[0m\u001b[0;34m\u001b[0m\u001b[0;34m\u001b[0m\u001b[0m\n",
      "\u001b[0;31mIndexError\u001b[0m: list index out of range"
     ]
    },
    {
     "data": {
      "text/plain": [
       "<Figure size 2000x1600 with 0 Axes>"
      ]
     },
     "metadata": {},
     "output_type": "display_data"
    },
    {
     "data": {
      "image/png": "[encoded data removed]",
      "text/plain": [
       "<Figure size 640x480 with 4 Axes>"
      ]
     },
     "metadata": {},
     "output_type": "display_data"
    }
   ],
   "source": [
    "plt.figure(figsize=(20, 16))\n",
    "plt.rcParams.update({'font.size': 10})\n",
    "fig, axs = plt.subplots(2, 2)\n",
    "fig.subplots_adjust(hspace=0.5, wspace=0.5)\n",
    "labs = [1200, 1500, 1800, 2100]\n",
    "# reallocIndex = [i for i in range(len(log[1][\"fid\"]))]\n",
    "# print(reallocIndex)\n",
    "for i in range(4):\n",
    "        axs[i//2, i%2].plot([improvements[i], improvements1[i]], [overheads[i], overheads1[i]], label=str(labs[i])+\"kbps\", marker=\"o\")\n",
    "        axs[i//2, i%2].set_ylim([0,50])\n",
    "        axs[i//2, i%2].set_xlabel(\"Improvement (%)\")\n",
    "        axs[i//2, i%2].set_ylabel(\"Overhead (%)\")\n",
    "        axs[i//2, i%2].legend()\n",
    "plt.savefig(\"baseline.png\")\n",
    "plt.show()"
   ]
  },
  {
   "cell_type": "code",
   "execution_count": null,
   "id": "f9ff0dae",
   "metadata": {},
   "outputs": [],
   "source": []
  },
  {
   "cell_type": "code",
   "execution_count": null,
   "id": "c31692dd",
   "metadata": {},
   "outputs": [],
   "source": []
  }
 ],
 "metadata": {
  "kernelspec": {
   "display_name": "Python 3 (ipykernel)",
   "language": "python",
   "name": "python3"
  },
  "language_info": {
   "codemirror_mode": {
    "name": "ipython",
    "version": 3
   },
   "file_extension": ".py",
   "mimetype": "text/x-python",
   "name": "python",
   "nbconvert_exporter": "python",
   "pygments_lexer": "ipython3",
   "version": "3.7.7"
  }
 },
 "nbformat": 4,
 "nbformat_minor": 5
}
